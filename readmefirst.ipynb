{
 "cells": [
  {
   "cell_type": "code",
   "execution_count": null,
   "metadata": {},
   "outputs": [],
   "source": []
  },
  {
   "cell_type": "markdown",
   "metadata": {},
   "source": [
    "this is for future refrence if required:\n",
    "this code works perfectly for scrap data\n",
    "\n",
    "only note:\n",
    "1) show your chrome version and get matched driver\n",
    "2) imge thumbnail and classes keep changing \n",
    "\n",
    "3)keep check that example :\n",
    " thumbnail_results = wd.find_elements_by_css_selector(\"img.YQ4gaf\")\n",
    " actual_images = wd.find_elements_by_css_selector('img.sFlh5c')\n",
    "\n",
    " in this css class keep changes if code gives error make sure classe is verified like YQ4gaf and sFlh5c keep change so inspect manually before excecute code\n"
   ]
  }
 ],
 "metadata": {
  "language_info": {
   "name": "python"
  }
 },
 "nbformat": 4,
 "nbformat_minor": 2
}
